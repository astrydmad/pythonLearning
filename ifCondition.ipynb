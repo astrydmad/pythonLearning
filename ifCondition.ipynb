{
 "cells": [
  {
   "cell_type": "code",
   "execution_count": 16,
   "outputs": [
    {
     "name": "stdout",
     "output_type": "stream",
     "text": [
      "out of IF block\n"
     ]
    }
   ],
   "source": [
    "a = 3\n",
    "b = 2\n",
    "if a < b:\n",
    "    print(\"a less than b\")\n",
    "\n",
    "print(\"out of IF block\")"
   ],
   "metadata": {
    "collapsed": false
   }
  },
  {
   "cell_type": "code",
   "execution_count": 20,
   "outputs": [
    {
     "name": "stdout",
     "output_type": "stream",
     "text": [
      "c bigger than d\n",
      "wo-hoooooo\n",
      "out of IF block\n"
     ]
    }
   ],
   "source": [
    "c = 3\n",
    "d = 0\n",
    "if c < d:\n",
    "    print(\"c less than d\")\n",
    "else:\n",
    "    print(\"c more than d\")\n",
    "    print(\"wo-hoooooo\")\n",
    "\n",
    "print(\"out of IF block\")"
   ],
   "metadata": {
    "collapsed": false
   }
  },
  {
   "cell_type": "code",
   "execution_count": 24,
   "outputs": [
    {
     "name": "stdout",
     "output_type": "stream",
     "text": [
      "wohooooo\n"
     ]
    }
   ],
   "source": [
    "e = 700\n",
    "f = 7\n",
    "if e < f:\n",
    "    print(\"e less than f\")\n",
    "elif e == f:\n",
    "    print(\"e equals f\")\n",
    "elif e > f + 300:\n",
    "    print(\"wohooooo\")\n",
    "else:\n",
    "    print(\"e more than f\")"
   ],
   "metadata": {
    "collapsed": false
   }
  },
  {
   "cell_type": "code",
   "execution_count": 26,
   "outputs": [
    {
     "name": "stdout",
     "output_type": "stream",
     "text": [
      "g equals h\n"
     ]
    }
   ],
   "source": [
    "g = 7\n",
    "h = 7\n",
    "if g < h:\n",
    "    print(\"g less than h\")\n",
    "else:\n",
    "    if g == h:\n",
    "        print(\"g equals h\")\n",
    "    else:\n",
    "        print(\"WOHOOOOOOO\")"
   ],
   "metadata": {
    "collapsed": false
   }
  },
  {
   "cell_type": "code",
   "execution_count": 29,
   "outputs": [
    {
     "name": "stdout",
     "output_type": "stream",
     "text": [
      "IBM 125.0\n",
      "Tom is fat\n"
     ]
    }
   ],
   "source": [
    "name = \"Tom\"\n",
    "height = 2\n",
    "weight = 500\n",
    "\n",
    "ibm = weight / (height ** 2)\n",
    "print(\"IBM \" + str(ibm))\n",
    "\n",
    "if ibm < 25:\n",
    "    print(name + \" is not fat\")\n",
    "else:\n",
    "    print(name + \" is fat\")"
   ],
   "metadata": {
    "collapsed": false
   }
  },
  {
   "cell_type": "code",
   "execution_count": 30,
   "outputs": [
    {
     "name": "stdout",
     "output_type": "stream",
     "text": [
      "False\n"
     ]
    }
   ],
   "source": [
    "mybool = 10 <5\n",
    "print(mybool)"
   ],
   "metadata": {
    "collapsed": false
   }
  },
  {
   "cell_type": "code",
   "execution_count": 31,
   "outputs": [
    {
     "data": {
      "text/plain": "bool"
     },
     "execution_count": 31,
     "metadata": {},
     "output_type": "execute_result"
    }
   ],
   "source": [
    "type(1 < 2)"
   ],
   "metadata": {
    "collapsed": false
   }
  },
  {
   "cell_type": "code",
   "execution_count": null,
   "outputs": [],
   "source": [],
   "metadata": {
    "collapsed": false
   }
  }
 ],
 "metadata": {
  "kernelspec": {
   "display_name": "Python 3",
   "language": "python",
   "name": "python3"
  },
  "language_info": {
   "codemirror_mode": {
    "name": "ipython",
    "version": 2
   },
   "file_extension": ".py",
   "mimetype": "text/x-python",
   "name": "python",
   "nbconvert_exporter": "python",
   "pygments_lexer": "ipython2",
   "version": "2.7.6"
  }
 },
 "nbformat": 4,
 "nbformat_minor": 0
}
